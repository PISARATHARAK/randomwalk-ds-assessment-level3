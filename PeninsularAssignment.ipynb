{
 "cells": [
  {
   "cell_type": "code",
   "execution_count": 2,
   "id": "61f0acc6",
   "metadata": {},
   "outputs": [],
   "source": [
    "import pandas as pd\n",
    "import matplotlib.pyplot as plt"
   ]
  },
  {
   "cell_type": "code",
   "execution_count": 3,
   "id": "48ae5e63",
   "metadata": {},
   "outputs": [
    {
     "data": {
      "text/html": [
       "<div>\n",
       "<style scoped>\n",
       "    .dataframe tbody tr th:only-of-type {\n",
       "        vertical-align: middle;\n",
       "    }\n",
       "\n",
       "    .dataframe tbody tr th {\n",
       "        vertical-align: top;\n",
       "    }\n",
       "\n",
       "    .dataframe thead th {\n",
       "        text-align: right;\n",
       "    }\n",
       "</style>\n",
       "<table border=\"1\" class=\"dataframe\">\n",
       "  <thead>\n",
       "    <tr style=\"text-align: right;\">\n",
       "      <th></th>\n",
       "      <th>book_id</th>\n",
       "      <th>goodreads_book_id</th>\n",
       "      <th>best_book_id</th>\n",
       "      <th>work_id</th>\n",
       "      <th>books_count</th>\n",
       "      <th>isbn</th>\n",
       "      <th>isbn13</th>\n",
       "      <th>authors</th>\n",
       "      <th>original_publication_year</th>\n",
       "      <th>original_title</th>\n",
       "      <th>...</th>\n",
       "      <th>work_ratings_count</th>\n",
       "      <th>work_text_reviews_count</th>\n",
       "      <th>ratings_1</th>\n",
       "      <th>ratings_2</th>\n",
       "      <th>ratings_3</th>\n",
       "      <th>ratings_4</th>\n",
       "      <th>ratings_5</th>\n",
       "      <th>image_url</th>\n",
       "      <th>small_image_url</th>\n",
       "      <th>NonEnglish</th>\n",
       "    </tr>\n",
       "  </thead>\n",
       "  <tbody>\n",
       "    <tr>\n",
       "      <th>0</th>\n",
       "      <td>15</td>\n",
       "      <td>48855</td>\n",
       "      <td>48855</td>\n",
       "      <td>3532896</td>\n",
       "      <td>710</td>\n",
       "      <td>553296981</td>\n",
       "      <td>9.780553e+12</td>\n",
       "      <td>Anne Frank, Eleanor Roosevelt, B.M. Mooyaart-D...</td>\n",
       "      <td>1947.0</td>\n",
       "      <td>Het Achterhuis: Dagboekbrieven 14 juni 1942 - ...</td>\n",
       "      <td>...</td>\n",
       "      <td>2024493</td>\n",
       "      <td>20825</td>\n",
       "      <td>45225</td>\n",
       "      <td>91270</td>\n",
       "      <td>355756</td>\n",
       "      <td>656870</td>\n",
       "      <td>875372</td>\n",
       "      <td>https://images.gr-assets.com/books/1358276407m...</td>\n",
       "      <td>https://images.gr-assets.com/books/1358276407s...</td>\n",
       "      <td>0</td>\n",
       "    </tr>\n",
       "    <tr>\n",
       "      <th>1</th>\n",
       "      <td>40</td>\n",
       "      <td>19501</td>\n",
       "      <td>19501</td>\n",
       "      <td>3352398</td>\n",
       "      <td>185</td>\n",
       "      <td>143038419</td>\n",
       "      <td>9.780143e+12</td>\n",
       "      <td>Elizabeth Gilbert</td>\n",
       "      <td>2006.0</td>\n",
       "      <td>Eat, pray, love: one woman's search for everyt...</td>\n",
       "      <td>...</td>\n",
       "      <td>1206597</td>\n",
       "      <td>49714</td>\n",
       "      <td>100373</td>\n",
       "      <td>149549</td>\n",
       "      <td>310212</td>\n",
       "      <td>332191</td>\n",
       "      <td>314272</td>\n",
       "      <td>https://images.gr-assets.com/books/1503066414m...</td>\n",
       "      <td>https://images.gr-assets.com/books/1503066414s...</td>\n",
       "      <td>0</td>\n",
       "    </tr>\n",
       "    <tr>\n",
       "      <th>2</th>\n",
       "      <td>81</td>\n",
       "      <td>7445</td>\n",
       "      <td>7445</td>\n",
       "      <td>2944133</td>\n",
       "      <td>92</td>\n",
       "      <td>074324754X</td>\n",
       "      <td>9.780743e+12</td>\n",
       "      <td>Jeannette Walls</td>\n",
       "      <td>2005.0</td>\n",
       "      <td>The Glass Castle</td>\n",
       "      <td>...</td>\n",
       "      <td>637866</td>\n",
       "      <td>40777</td>\n",
       "      <td>7901</td>\n",
       "      <td>18922</td>\n",
       "      <td>85191</td>\n",
       "      <td>227750</td>\n",
       "      <td>298102</td>\n",
       "      <td>https://images.gr-assets.com/books/1400930557m...</td>\n",
       "      <td>https://images.gr-assets.com/books/1400930557s...</td>\n",
       "      <td>0</td>\n",
       "    </tr>\n",
       "    <tr>\n",
       "      <th>3</th>\n",
       "      <td>82</td>\n",
       "      <td>1845</td>\n",
       "      <td>1845</td>\n",
       "      <td>3284484</td>\n",
       "      <td>108</td>\n",
       "      <td>385486804</td>\n",
       "      <td>9.780385e+12</td>\n",
       "      <td>Jon Krakauer</td>\n",
       "      <td>1996.0</td>\n",
       "      <td>Into the Wild</td>\n",
       "      <td>...</td>\n",
       "      <td>665377</td>\n",
       "      <td>17299</td>\n",
       "      <td>19229</td>\n",
       "      <td>35567</td>\n",
       "      <td>135199</td>\n",
       "      <td>248287</td>\n",
       "      <td>227095</td>\n",
       "      <td>https://images.gr-assets.com/books/1403173986m...</td>\n",
       "      <td>https://images.gr-assets.com/books/1403173986s...</td>\n",
       "      <td>0</td>\n",
       "    </tr>\n",
       "    <tr>\n",
       "      <th>4</th>\n",
       "      <td>87</td>\n",
       "      <td>1617</td>\n",
       "      <td>1617</td>\n",
       "      <td>265616</td>\n",
       "      <td>109</td>\n",
       "      <td>374500010</td>\n",
       "      <td>9.780375e+12</td>\n",
       "      <td>Elie Wiesel, Marion Wiesel</td>\n",
       "      <td>1958.0</td>\n",
       "      <td>Un di Velt Hot Geshvign</td>\n",
       "      <td>...</td>\n",
       "      <td>707879</td>\n",
       "      <td>22001</td>\n",
       "      <td>7761</td>\n",
       "      <td>18539</td>\n",
       "      <td>90575</td>\n",
       "      <td>230227</td>\n",
       "      <td>360777</td>\n",
       "      <td>https://images.gr-assets.com/books/1473495285m...</td>\n",
       "      <td>https://images.gr-assets.com/books/1473495285s...</td>\n",
       "      <td>0</td>\n",
       "    </tr>\n",
       "  </tbody>\n",
       "</table>\n",
       "<p>5 rows × 24 columns</p>\n",
       "</div>"
      ],
      "text/plain": [
       "   book_id  goodreads_book_id  best_book_id  work_id  books_count        isbn  \\\n",
       "0       15              48855         48855  3532896          710   553296981   \n",
       "1       40              19501         19501  3352398          185   143038419   \n",
       "2       81               7445          7445  2944133           92  074324754X   \n",
       "3       82               1845          1845  3284484          108   385486804   \n",
       "4       87               1617          1617   265616          109   374500010   \n",
       "\n",
       "         isbn13                                            authors  \\\n",
       "0  9.780553e+12  Anne Frank, Eleanor Roosevelt, B.M. Mooyaart-D...   \n",
       "1  9.780143e+12                                  Elizabeth Gilbert   \n",
       "2  9.780743e+12                                    Jeannette Walls   \n",
       "3  9.780385e+12                                       Jon Krakauer   \n",
       "4  9.780375e+12                         Elie Wiesel, Marion Wiesel   \n",
       "\n",
       "   original_publication_year  \\\n",
       "0                     1947.0   \n",
       "1                     2006.0   \n",
       "2                     2005.0   \n",
       "3                     1996.0   \n",
       "4                     1958.0   \n",
       "\n",
       "                                      original_title  ... work_ratings_count  \\\n",
       "0  Het Achterhuis: Dagboekbrieven 14 juni 1942 - ...  ...            2024493   \n",
       "1  Eat, pray, love: one woman's search for everyt...  ...            1206597   \n",
       "2                                   The Glass Castle  ...             637866   \n",
       "3                                      Into the Wild  ...             665377   \n",
       "4                            Un di Velt Hot Geshvign  ...             707879   \n",
       "\n",
       "  work_text_reviews_count  ratings_1  ratings_2  ratings_3  ratings_4  \\\n",
       "0                   20825      45225      91270     355756     656870   \n",
       "1                   49714     100373     149549     310212     332191   \n",
       "2                   40777       7901      18922      85191     227750   \n",
       "3                   17299      19229      35567     135199     248287   \n",
       "4                   22001       7761      18539      90575     230227   \n",
       "\n",
       "   ratings_5                                          image_url  \\\n",
       "0     875372  https://images.gr-assets.com/books/1358276407m...   \n",
       "1     314272  https://images.gr-assets.com/books/1503066414m...   \n",
       "2     298102  https://images.gr-assets.com/books/1400930557m...   \n",
       "3     227095  https://images.gr-assets.com/books/1403173986m...   \n",
       "4     360777  https://images.gr-assets.com/books/1473495285m...   \n",
       "\n",
       "                                     small_image_url  NonEnglish  \n",
       "0  https://images.gr-assets.com/books/1358276407s...           0  \n",
       "1  https://images.gr-assets.com/books/1503066414s...           0  \n",
       "2  https://images.gr-assets.com/books/1400930557s...           0  \n",
       "3  https://images.gr-assets.com/books/1403173986s...           0  \n",
       "4  https://images.gr-assets.com/books/1473495285s...           0  \n",
       "\n",
       "[5 rows x 24 columns]"
      ]
     },
     "execution_count": 3,
     "metadata": {},
     "output_type": "execute_result"
    }
   ],
   "source": [
    "df_books=pd.read_csv('books.csv')\n",
    "df_books.head(5)\n"
   ]
  },
  {
   "cell_type": "code",
   "execution_count": 4,
   "id": "6a7bb35f",
   "metadata": {},
   "outputs": [
    {
     "data": {
      "text/html": [
       "<div>\n",
       "<style scoped>\n",
       "    .dataframe tbody tr th:only-of-type {\n",
       "        vertical-align: middle;\n",
       "    }\n",
       "\n",
       "    .dataframe tbody tr th {\n",
       "        vertical-align: top;\n",
       "    }\n",
       "\n",
       "    .dataframe thead th {\n",
       "        text-align: right;\n",
       "    }\n",
       "</style>\n",
       "<table border=\"1\" class=\"dataframe\">\n",
       "  <thead>\n",
       "    <tr style=\"text-align: right;\">\n",
       "      <th></th>\n",
       "      <th>goodreads_book_id</th>\n",
       "      <th>tag_id</th>\n",
       "      <th>count</th>\n",
       "    </tr>\n",
       "  </thead>\n",
       "  <tbody>\n",
       "    <tr>\n",
       "      <th>0</th>\n",
       "      <td>386</td>\n",
       "      <td>30574</td>\n",
       "      <td>565</td>\n",
       "    </tr>\n",
       "    <tr>\n",
       "      <th>1</th>\n",
       "      <td>386</td>\n",
       "      <td>19733</td>\n",
       "      <td>280</td>\n",
       "    </tr>\n",
       "    <tr>\n",
       "      <th>2</th>\n",
       "      <td>386</td>\n",
       "      <td>21689</td>\n",
       "      <td>182</td>\n",
       "    </tr>\n",
       "    <tr>\n",
       "      <th>3</th>\n",
       "      <td>386</td>\n",
       "      <td>21773</td>\n",
       "      <td>99</td>\n",
       "    </tr>\n",
       "    <tr>\n",
       "      <th>4</th>\n",
       "      <td>386</td>\n",
       "      <td>19742</td>\n",
       "      <td>78</td>\n",
       "    </tr>\n",
       "  </tbody>\n",
       "</table>\n",
       "</div>"
      ],
      "text/plain": [
       "   goodreads_book_id  tag_id  count\n",
       "0                386   30574    565\n",
       "1                386   19733    280\n",
       "2                386   21689    182\n",
       "3                386   21773     99\n",
       "4                386   19742     78"
      ]
     },
     "execution_count": 4,
     "metadata": {},
     "output_type": "execute_result"
    }
   ],
   "source": [
    "df_book_tags=pd.read_csv('book_tags.csv')\n",
    "df_book_tags.head(5)"
   ]
  },
  {
   "cell_type": "code",
   "execution_count": 5,
   "id": "4971a841",
   "metadata": {},
   "outputs": [
    {
     "data": {
      "text/html": [
       "<div>\n",
       "<style scoped>\n",
       "    .dataframe tbody tr th:only-of-type {\n",
       "        vertical-align: middle;\n",
       "    }\n",
       "\n",
       "    .dataframe tbody tr th {\n",
       "        vertical-align: top;\n",
       "    }\n",
       "\n",
       "    .dataframe thead th {\n",
       "        text-align: right;\n",
       "    }\n",
       "</style>\n",
       "<table border=\"1\" class=\"dataframe\">\n",
       "  <thead>\n",
       "    <tr style=\"text-align: right;\">\n",
       "      <th></th>\n",
       "      <th>user_id</th>\n",
       "      <th>book_id</th>\n",
       "      <th>rating</th>\n",
       "    </tr>\n",
       "  </thead>\n",
       "  <tbody>\n",
       "    <tr>\n",
       "      <th>0</th>\n",
       "      <td>8</td>\n",
       "      <td>2584</td>\n",
       "      <td>5</td>\n",
       "    </tr>\n",
       "    <tr>\n",
       "      <th>1</th>\n",
       "      <td>4</td>\n",
       "      <td>87</td>\n",
       "      <td>5</td>\n",
       "    </tr>\n",
       "    <tr>\n",
       "      <th>2</th>\n",
       "      <td>4</td>\n",
       "      <td>495</td>\n",
       "      <td>4</td>\n",
       "    </tr>\n",
       "    <tr>\n",
       "      <th>3</th>\n",
       "      <td>9</td>\n",
       "      <td>344</td>\n",
       "      <td>4</td>\n",
       "    </tr>\n",
       "    <tr>\n",
       "      <th>4</th>\n",
       "      <td>9</td>\n",
       "      <td>372</td>\n",
       "      <td>4</td>\n",
       "    </tr>\n",
       "  </tbody>\n",
       "</table>\n",
       "</div>"
      ],
      "text/plain": [
       "   user_id  book_id  rating\n",
       "0        8     2584       5\n",
       "1        4       87       5\n",
       "2        4      495       4\n",
       "3        9      344       4\n",
       "4        9      372       4"
      ]
     },
     "execution_count": 5,
     "metadata": {},
     "output_type": "execute_result"
    }
   ],
   "source": [
    "df_ratings=pd.read_csv('ratings.csv')\n",
    "df_ratings.head(5)"
   ]
  },
  {
   "cell_type": "markdown",
   "id": "255f4f1f",
   "metadata": {},
   "source": [
    "# 1. How many books do not have an original title [books.csv]?"
   ]
  },
  {
   "cell_type": "code",
   "execution_count": 6,
   "id": "53ac46db",
   "metadata": {},
   "outputs": [
    {
     "name": "stdout",
     "output_type": "stream",
     "text": [
      "36 Books does not have \"original_title\"\n"
     ]
    }
   ],
   "source": [
    "no_original_title=df_books['original_title'].isnull().sum()\n",
    "print(no_original_title,'Books does not have \"original_title\"')"
   ]
  },
  {
   "cell_type": "markdown",
   "id": "20ceff3a",
   "metadata": {},
   "source": [
    "# 2. How many unique books are present in the dataset ? Evaluate based on the 'book_id' after removing records containing null values for original_title column in [books.csv] and corresponding records in [book_tags.csv] and [ratings.csv]"
   ]
  },
  {
   "cell_type": "code",
   "execution_count": 22,
   "id": "ccbd3fd0",
   "metadata": {},
   "outputs": [
    {
     "name": "stdout",
     "output_type": "stream",
     "text": [
      "(363, 24)\n",
      "363 Unique Books are present in Books.csv file\n"
     ]
    }
   ],
   "source": [
    "df1_books=df_books.dropna(subset=['original_title'])\n",
    "print(df1_books.shape)\n",
    "\n",
    "#After removing null values from 3 datsets\n",
    "\n",
    "goodReadIds=df_books[df_books['original_title'].isnull()].goodreads_book_id\n",
    "df1_book_tags=df_book_tags[~df_book_tags['goodreads_book_id'].isin(goodReadIds)]\n",
    "df1_ratings=df_ratings[df_ratings['book_id'].isin(df1_books['book_id'])]\n",
    "df1_ratings\n",
    "unique_ids=len(pd.unique(df1_books['book_id']))\n",
    "print(unique_ids,\"Unique Books are present in Books.csv file\")"
   ]
  },
  {
   "cell_type": "markdown",
   "id": "b313c0d0",
   "metadata": {},
   "source": [
    "# 3.How many unique users are present in the dataset [ratings.csv] ?"
   ]
  },
  {
   "cell_type": "code",
   "execution_count": 8,
   "id": "211decdf",
   "metadata": {},
   "outputs": [
    {
     "name": "stdout",
     "output_type": "stream",
     "text": [
      "40573 Unique users are present in \"ratings.csv\"\n"
     ]
    }
   ],
   "source": [
    "unique_users=pd.unique(df1_ratings['user_id'])\n",
    "unique_users\n",
    "print(len(unique_users),'Unique users are present in \"ratings.csv\"')"
   ]
  },
  {
   "cell_type": "markdown",
   "id": "4ba1c695",
   "metadata": {},
   "source": [
    "# 4.How many unique tags are there in the dataset [book_tags.csv] ?"
   ]
  },
  {
   "cell_type": "code",
   "execution_count": 23,
   "id": "ccfd2fcd",
   "metadata": {},
   "outputs": [
    {
     "name": "stdout",
     "output_type": "stream",
     "text": [
      "3459 Unique tags are present in \"book_tags.csv\"\n"
     ]
    }
   ],
   "source": [
    "unique_tags=pd.unique(df1_book_tags['tag_id'])\n",
    "unique_tags\n",
    "print(len(unique_tags),'Unique tags are present in \"book_tags.csv\"')"
   ]
  },
  {
   "cell_type": "markdown",
   "id": "b619da8d",
   "metadata": {},
   "source": [
    "# 5.Which tag_id is the most frequently used ie. mapped with the highest number of books [book_tags.csv] ? (In case of more than one tag, mention the tag id with the least numerical value)’."
   ]
  },
  {
   "cell_type": "code",
   "execution_count": 24,
   "id": "db9763c3",
   "metadata": {},
   "outputs": [
    {
     "name": "stdout",
     "output_type": "stream",
     "text": [
      "4600     366\n",
      "21689    365\n",
      "30574    364\n",
      "4605     364\n",
      "21773    363\n",
      "        ... \n",
      "678        1\n",
      "16837      1\n",
      "284        1\n",
      "674        1\n",
      "25370      1\n",
      "Name: tag_id, Length: 3459, dtype: int64\n",
      "The most frequently used tag id is: 4600 and it occured: 366 times\n"
     ]
    }
   ],
   "source": [
    "tag_ids=df1_book_tags['tag_id'].value_counts()\n",
    "print(tag_ids)\n",
    "#As we can every tag only repeated one time so we need to sort index values in and print least index\n",
    "\n",
    "print(\"The most frequently used tag id is:\",tag_ids.idxmax(),\"and it occured:\",tag_ids.max(),\"times\")"
   ]
  },
  {
   "cell_type": "markdown",
   "id": "ecee919a",
   "metadata": {},
   "source": [
    "# 6.Which book (title) has the most number of counts of tags given by the user [book_tags.csv,books.csv] ."
   ]
  },
  {
   "cell_type": "code",
   "execution_count": 25,
   "id": "f5a01615",
   "metadata": {},
   "outputs": [
    {
     "name": "stdout",
     "output_type": "stream",
     "text": [
      "The most number of tags given by user to book title is: Bossypants\n",
      "The number of tags given by users are: 387679\n"
     ]
    }
   ],
   "source": [
    "#Here we need to work on two datasets there is relationship between \n",
    "#these two datasets on book_id and goodreads_book id column so we need to join together for that use merge\n",
    "\n",
    "#Here we are using inner join so i have used old dataset only \n",
    "#because by default it takes common values from both datasets\n",
    "df_merged=pd.merge(df_book_tags,df_books,on=\"goodreads_book_id\")\n",
    "title_counts=df_merged.groupby('title')['count'].sum();\n",
    "\n",
    "print(\"The most number of tags given by user to book title is:\",title_counts.idxmax())\n",
    "print(\"The number of tags given by users are:\",title_counts.max())\n"
   ]
  },
  {
   "cell_type": "markdown",
   "id": "38443c17",
   "metadata": {},
   "source": [
    "# 7.Plot a bar chart with top 20 unique tags in descending order of ‘user records’ (the number of users tagged the given tag_id with the goodreads_book_id) [book_tags.csv]"
   ]
  },
  {
   "cell_type": "code",
   "execution_count": 27,
   "id": "3622514d",
   "metadata": {},
   "outputs": [
    {
     "data": {
      "image/png": "[encoded data removed]",
      "text/plain": [
       "<Figure size 640x480 with 1 Axes>"
      ]
     },
     "metadata": {},
     "output_type": "display_data"
    }
   ],
   "source": [
    "unique_tags=df1_book_tags.groupby('tag_id')['goodreads_book_id'].nunique()\n",
    "\n",
    "\n",
    "#So we need to only top 20 so we have already sorted in descending order we cam top 2o using head(20)\n",
    "top_tags = unique_tags.sort_values(ascending=False).head(20)\n",
    "\n",
    "\n",
    "top_tags.plot(kind='bar')\n",
    "plt.xlabel('Tag_ID')\n",
    "plt.ylabel('User Records')\n",
    "plt.title(\"Top 20 unique tags\")\n",
    "plt.show()\n"
   ]
  },
  {
   "cell_type": "code",
   "execution_count": null,
   "id": "f9a19c51",
   "metadata": {},
   "outputs": [],
   "source": []
  }
 ],
 "metadata": {
  "kernelspec": {
   "display_name": "Python 3 (ipykernel)",
   "language": "python",
   "name": "python3"
  },
  "language_info": {
   "codemirror_mode": {
    "name": "ipython",
    "version": 3
   },
   "file_extension": ".py",
   "mimetype": "text/x-python",
   "name": "python",
   "nbconvert_exporter": "python",
   "pygments_lexer": "ipython3",
   "version": "3.11.3"
  }
 },
 "nbformat": 4,
 "nbformat_minor": 5
}
